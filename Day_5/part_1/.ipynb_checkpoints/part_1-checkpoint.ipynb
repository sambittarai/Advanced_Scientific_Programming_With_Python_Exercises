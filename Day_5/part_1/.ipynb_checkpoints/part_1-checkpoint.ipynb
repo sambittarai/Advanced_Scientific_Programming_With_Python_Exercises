{
 "cells": [
  {
   "cell_type": "markdown",
   "id": "fb475e1f",
   "metadata": {},
   "source": [
    "# a. Define a matrix A"
   ]
  },
  {
   "cell_type": "code",
   "execution_count": 1,
   "id": "c27ef432",
   "metadata": {},
   "outputs": [
    {
     "data": {
      "text/plain": [
       "array([[ 1, -2,  3],\n",
       "       [ 4,  5,  6],\n",
       "       [ 7,  1,  9]])"
      ]
     },
     "execution_count": 1,
     "metadata": {},
     "output_type": "execute_result"
    }
   ],
   "source": [
    "import numpy as np\n",
    "\n",
    "A = np.array([[1, -2, 3],\n",
    "              [4, 5, 6],\n",
    "              [7, 1, 9]])\n",
    "A"
   ]
  },
  {
   "cell_type": "markdown",
   "id": "26113539",
   "metadata": {},
   "source": [
    "# b. Define a vector b"
   ]
  },
  {
   "cell_type": "code",
   "execution_count": 2,
   "id": "62ee353f",
   "metadata": {},
   "outputs": [
    {
     "data": {
      "text/plain": [
       "array([1, 2, 3])"
      ]
     },
     "execution_count": 2,
     "metadata": {},
     "output_type": "execute_result"
    }
   ],
   "source": [
    "b = np.array([1, 2, 3])\n",
    "b"
   ]
  },
  {
   "cell_type": "markdown",
   "id": "ed718620",
   "metadata": {},
   "source": [
    "# c. Solve the linear system of equations A x = b"
   ]
  },
  {
   "cell_type": "code",
   "execution_count": 3,
   "id": "b4ea6118",
   "metadata": {},
   "outputs": [
    {
     "data": {
      "text/plain": [
       "array([ 2.56664463e-17, -1.31316702e-17,  3.33333333e-01])"
      ]
     },
     "execution_count": 3,
     "metadata": {},
     "output_type": "execute_result"
    }
   ],
   "source": [
    "# Solve the system\n",
    "x = np.linalg.solve(A, b)\n",
    "x"
   ]
  },
  {
   "cell_type": "markdown",
   "id": "6d1e45d4",
   "metadata": {},
   "source": [
    "# d. Check that your solution is correct by plugging it into the equation"
   ]
  },
  {
   "cell_type": "code",
   "execution_count": 4,
   "id": "1291c445",
   "metadata": {},
   "outputs": [
    {
     "name": "stdout",
     "output_type": "stream",
     "text": [
      "[1. 2. 3.]\n"
     ]
    }
   ],
   "source": [
    "print(np.dot(A, x))"
   ]
  },
  {
   "cell_type": "markdown",
   "id": "57a33061",
   "metadata": {},
   "source": [
    "# e. Repeat steps a-d using a random 3x3 matrix B (instead of the vector b)\n"
   ]
  },
  {
   "cell_type": "code",
   "execution_count": 6,
   "id": "e277c37d",
   "metadata": {},
   "outputs": [
    {
     "data": {
      "text/plain": [
       "array([[-0.32866398, -0.5276772 , -0.00561925],\n",
       "       [-0.0940901 ,  0.04718218, -0.00317229],\n",
       "       [ 0.37146704,  0.41924273,  0.10664946]])"
      ]
     },
     "execution_count": 6,
     "metadata": {},
     "output_type": "execute_result"
    }
   ],
   "source": [
    "B = np.random.rand(3, 3)\n",
    "\n",
    "# Solve the system\n",
    "x = np.linalg.solve(A, B)\n",
    "x"
   ]
  },
  {
   "cell_type": "code",
   "execution_count": 7,
   "id": "c361c9e2",
   "metadata": {},
   "outputs": [
    {
     "name": "stdout",
     "output_type": "stream",
     "text": [
      "[[0.97391734 0.63568662 0.3206737 ]\n",
      " [0.44369585 0.64065848 0.60155834]\n",
      " [0.94846543 0.12662633 0.91733812]]\n"
     ]
    }
   ],
   "source": [
    "print(np.dot(A, x))"
   ]
  },
  {
   "cell_type": "markdown",
   "id": "b4832fa9",
   "metadata": {},
   "source": [
    "# f. Solve the eigenvalue problem for the matrix A and print the eigenvalues and eigenvectors"
   ]
  },
  {
   "cell_type": "code",
   "execution_count": 8,
   "id": "07521650",
   "metadata": {},
   "outputs": [
    {
     "name": "stdout",
     "output_type": "stream",
     "text": [
      "Eigenvalues: [-1.13261772 10.67269524  5.45992248]\n",
      "Eigenvectors:\n",
      " [[-0.8215735   0.05324273  0.25636602]\n",
      " [-0.02150583  0.74309552 -0.93563185]\n",
      " [ 0.56969684  0.66706391 -0.24263037]]\n"
     ]
    }
   ],
   "source": [
    "eigenvalues, eigenvectors = np.linalg.eig(A)\n",
    "\n",
    "print(\"Eigenvalues:\", eigenvalues)\n",
    "print(\"Eigenvectors:\\n\", eigenvectors)"
   ]
  },
  {
   "cell_type": "markdown",
   "id": "540cf6da",
   "metadata": {},
   "source": [
    "# g. Calculate the inverse, determinant of A"
   ]
  },
  {
   "cell_type": "code",
   "execution_count": 9,
   "id": "02b89792",
   "metadata": {},
   "outputs": [
    {
     "name": "stdout",
     "output_type": "stream",
     "text": [
      "Inverse of A:\n",
      " [[-0.59090909 -0.31818182  0.40909091]\n",
      " [-0.09090909  0.18181818 -0.09090909]\n",
      " [ 0.46969697  0.22727273 -0.1969697 ]]\n",
      "Determinant of A: -66.00000000000003\n"
     ]
    }
   ],
   "source": [
    "# Calculate the inverse\n",
    "A_inv = np.linalg.inv(A)\n",
    "\n",
    "print(\"Inverse of A:\\n\", A_inv)\n",
    "\n",
    "# Calculate the determinant\n",
    "det_A = np.linalg.det(A)\n",
    "\n",
    "print(\"Determinant of A:\", det_A)"
   ]
  },
  {
   "cell_type": "markdown",
   "id": "cda844c9",
   "metadata": {},
   "source": [
    "# h. Calculate the norm of A with different orders"
   ]
  },
  {
   "cell_type": "code",
   "execution_count": 10,
   "id": "c6a12b1a",
   "metadata": {},
   "outputs": [
    {
     "name": "stdout",
     "output_type": "stream",
     "text": [
      "Norm of A with order 1: 18.0\n",
      "Norm of A with order 2: 14.173659390884978\n",
      "Norm of A with order infinity: 17.0\n"
     ]
    }
   ],
   "source": [
    "# Calculate the norm with order 1\n",
    "norm_1 = np.linalg.norm(A, ord=1)\n",
    "\n",
    "print(\"Norm of A with order 1:\", norm_1)\n",
    "\n",
    "# Calculate the norm with order 2\n",
    "norm_2 = np.linalg.norm(A, ord=2)\n",
    "\n",
    "print(\"Norm of A with order 2:\", norm_2)\n",
    "\n",
    "# Calculate the norm with order infinity\n",
    "norm_inf = np.linalg.norm(A, ord=np.inf)\n",
    "\n",
    "print(\"Norm of A with order infinity:\", norm_inf)"
   ]
  },
  {
   "cell_type": "markdown",
   "id": "663e5286",
   "metadata": {},
   "source": [
    "# Statistics"
   ]
  },
  {
   "cell_type": "markdown",
   "id": "13958059",
   "metadata": {},
   "source": [
    "# a. Create a discrete random variable with poissonian distribution and plot its probability mass function (PMF), cummulative distribution function (CDF) and a histogram of 1000 random realizations of the variable"
   ]
  },
  {
   "cell_type": "code",
   "execution_count": 11,
   "id": "fba1043d",
   "metadata": {},
   "outputs": [
    {
     "data": {
      "image/png": "[encoded data removed]",
      "text/plain": [
       "<Figure size 432x288 with 1 Axes>"
      ]
     },
     "metadata": {
      "needs_background": "light"
     },
     "output_type": "display_data"
    },
    {
     "data": {
      "image/png": "[encoded data removed]",
      "text/plain": [
       "<Figure size 432x288 with 1 Axes>"
      ]
     },
     "metadata": {
      "needs_background": "light"
     },
     "output_type": "display_data"
    },
    {
     "data": {
      "image/png": "[encoded data removed]",
      "text/plain": [
       "<Figure size 432x288 with 1 Axes>"
      ]
     },
     "metadata": {
      "needs_background": "light"
     },
     "output_type": "display_data"
    }
   ],
   "source": [
    "import numpy as np\n",
    "from scipy import stats\n",
    "import matplotlib.pyplot as plt\n",
    "\n",
    "# Define the Poisson distribution with lambda=3\n",
    "poisson_dist = stats.poisson(mu=3)\n",
    "\n",
    "# Plot the PMF\n",
    "x = np.arange(0, 15)\n",
    "pmf = poisson_dist.pmf(x)\n",
    "plt.stem(x, pmf, use_line_collection=True)\n",
    "plt.title(\"Probability Mass Function\")\n",
    "plt.xlabel(\"Number of Events\")\n",
    "plt.ylabel(\"Probability\")\n",
    "plt.show()\n",
    "\n",
    "# Plot the CDF\n",
    "cdf = poisson_dist.cdf(x)\n",
    "plt.step(x, cdf)\n",
    "plt.title(\"Cumulative Distribution Function\")\n",
    "plt.xlabel(\"Number of Events\")\n",
    "plt.ylabel(\"Cumulative Probability\")\n",
    "plt.show()\n",
    "\n",
    "# Generate 1000 random realizations and plot a histogram\n",
    "samples = poisson_dist.rvs(size=1000)\n",
    "plt.hist(samples, bins=15, density=True)\n",
    "plt.title(\"Histogram of Random Realizations\")\n",
    "plt.xlabel(\"Number of Events\")\n",
    "plt.ylabel(\"Frequency\")\n",
    "plt.show()"
   ]
  },
  {
   "cell_type": "code",
   "execution_count": null,
   "id": "e466dacb",
   "metadata": {},
   "outputs": [],
   "source": []
  }
 ],
 "metadata": {
  "kernelspec": {
   "display_name": "Python 3",
   "language": "python",
   "name": "python3"
  },
  "language_info": {
   "codemirror_mode": {
    "name": "ipython",
    "version": 3
   },
   "file_extension": ".py",
   "mimetype": "text/x-python",
   "name": "python",
   "nbconvert_exporter": "python",
   "pygments_lexer": "ipython3",
   "version": "3.8.8"
  }
 },
 "nbformat": 4,
 "nbformat_minor": 5
}
