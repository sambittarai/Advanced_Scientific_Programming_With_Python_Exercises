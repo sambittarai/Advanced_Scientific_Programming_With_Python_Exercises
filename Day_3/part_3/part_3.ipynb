{
 "cells": [
  {
   "cell_type": "markdown",
   "id": "b37952b9",
   "metadata": {},
   "source": [
    "# Matrix multiplication without optimization"
   ]
  },
  {
   "cell_type": "code",
   "execution_count": 10,
   "id": "d8e1587e",
   "metadata": {},
   "outputs": [
    {
     "name": "stdout",
     "output_type": "stream",
     "text": [
      "total time =  3.3113956451416016\n"
     ]
    }
   ],
   "source": [
    "# Program to multiply two matrices using nested loops\n",
    "import random\n",
    "import time\n",
    "\n",
    "start = time.time()\n",
    "N = 250\n",
    "\n",
    "# NxN matrix\n",
    "X = []\n",
    "for i in range(N):\n",
    "    X.append([random.randint(0,100) for r in range(N)])\n",
    "\n",
    "# Nx(N+1) matrix\n",
    "Y = []\n",
    "for i in range(N):\n",
    "    Y.append([random.randint(0,100) for r in range(N+1)])\n",
    "\n",
    "# result is Nx(N+1)\n",
    "result = []\n",
    "for i in range(N):\n",
    "    result.append([0] * (N+1))\n",
    "\n",
    "# iterate through rows of X\n",
    "for i in range(len(X)):\n",
    "    # iterate through columns of Y\n",
    "    for j in range(len(Y[0])):\n",
    "        # iterate through rows of Y\n",
    "        for k in range(len(Y)):\n",
    "            result[i][j] += X[i][k] * Y[k][j]\n",
    "\n",
    "#for r in result:\n",
    "#    print(r)\n",
    "    \n",
    "end = time.time()\n",
    "print(\"total time = \", end-start)"
   ]
  },
  {
   "cell_type": "markdown",
   "id": "5698f2c6",
   "metadata": {},
   "source": [
    "# Matrix multiplication with optimization"
   ]
  },
  {
   "cell_type": "code",
   "execution_count": 14,
   "id": "817d1b89",
   "metadata": {},
   "outputs": [
    {
     "name": "stdout",
     "output_type": "stream",
     "text": [
      "total time =  0.031209945678710938\n"
     ]
    }
   ],
   "source": [
    "import numpy as np\n",
    "\n",
    "start = time.time()\n",
    "\n",
    "Z = np.dot(np.asarray(X), np.asarray(Y))\n",
    "\n",
    "end = time.time()\n",
    "print(\"total time = \", end-start)"
   ]
  },
  {
   "cell_type": "code",
   "execution_count": null,
   "id": "ffb87bdd",
   "metadata": {},
   "outputs": [],
   "source": []
  }
 ],
 "metadata": {
  "kernelspec": {
   "display_name": "Python 3",
   "language": "python",
   "name": "python3"
  },
  "language_info": {
   "codemirror_mode": {
    "name": "ipython",
    "version": 3
   },
   "file_extension": ".py",
   "mimetype": "text/x-python",
   "name": "python",
   "nbconvert_exporter": "python",
   "pygments_lexer": "ipython3",
   "version": "3.8.8"
  }
 },
 "nbformat": 4,
 "nbformat_minor": 5
}
