{
 "cells": [
  {
   "cell_type": "code",
   "execution_count": 1,
   "id": "2b9c9933",
   "metadata": {},
   "outputs": [],
   "source": [
    "import numpy as np\n",
    "import cupy as cp\n",
    "\n",
    "sizes = [128, 256, 512, 1024, 2048]\n",
    "\n",
    "numpy_arrays = [np.random.randn(size, size) for size in sizes]\n",
    "cupy_arrays = [cp.random.randn(size, size) for size in sizes]"
   ]
  },
  {
   "cell_type": "code",
   "execution_count": 2,
   "id": "d80e09e4",
   "metadata": {},
   "outputs": [],
   "source": [
    "def fft2d(array):\n",
    "    if isinstance(array, np.ndarray):\n",
    "        return np.fft.fft2(array)\n",
    "    elif isinstance(array, cp.ndarray):\n",
    "        return cp.fft.fft2(array)\n",
    "    else:\n",
    "        raise TypeError('Unsupported array type')"
   ]
  },
  {
   "cell_type": "code",
   "execution_count": 3,
   "id": "c83317e2",
   "metadata": {},
   "outputs": [
    {
     "name": "stdout",
     "output_type": "stream",
     "text": [
      "Size: 128x128\n",
      "numpy: cupy: Cupy speedup: 2.45x\n",
      "\n",
      "Size: 256x256\n",
      "numpy: cupy: Cupy speedup: 14.89x\n",
      "\n",
      "Size: 512x512\n",
      "numpy: cupy: Cupy speedup: 72.17x\n",
      "\n",
      "Size: 1024x1024\n",
      "numpy: cupy: Cupy speedup: 342.50x\n",
      "\n",
      "Size: 2048x2048\n",
      "numpy: cupy: Cupy speedup: 2237.92x\n",
      "\n"
     ]
    }
   ],
   "source": [
    "for i, size in enumerate(sizes):\n",
    "    print(f'Size: {size}x{size}')\n",
    "    \n",
    "    # numpy\n",
    "    print('numpy: ', end='')\n",
    "    numpy_time = %timeit -o -q -r 3 -n 10 fft2d(numpy_arrays[i])\n",
    "    \n",
    "    # cupy\n",
    "    print('cupy: ', end='')\n",
    "    cupy_time = %timeit -o -q -r 3 -n 10 fft2d(cupy_arrays[i])\n",
    "    \n",
    "    print(f'Cupy speedup: {numpy_time.best / cupy_time.best:.2f}x\\n')"
   ]
  },
  {
   "cell_type": "code",
   "execution_count": null,
   "id": "68239ec0",
   "metadata": {},
   "outputs": [],
   "source": []
  }
 ],
 "metadata": {
  "kernelspec": {
   "display_name": "Python 3",
   "language": "python",
   "name": "python3"
  },
  "language_info": {
   "codemirror_mode": {
    "name": "ipython",
    "version": 3
   },
   "file_extension": ".py",
   "mimetype": "text/x-python",
   "name": "python",
   "nbconvert_exporter": "python",
   "pygments_lexer": "ipython3",
   "version": "3.8.8"
  }
 },
 "nbformat": 4,
 "nbformat_minor": 5
}
